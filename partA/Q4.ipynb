{
 "cells": [
  {
   "cell_type": "code",
   "execution_count": null,
   "id": "8bbd8a23",
   "metadata": {},
   "outputs": [
    {
     "name": "stderr",
     "output_type": "stream",
     "text": [
      "\u001b[34m\u001b[1mwandb\u001b[0m: Using wandb-core as the SDK backend.  Please refer to https://wandb.me/wandb-core for more information.\n",
      "\u001b[34m\u001b[1mwandb\u001b[0m: Currently logged in as: \u001b[33mcs24m029\u001b[0m (\u001b[33mcs24m029-indian-institute-of-technology-madras\u001b[0m) to \u001b[32mhttps://api.wandb.ai\u001b[0m. Use \u001b[1m`wandb login --relogin`\u001b[0m to force relogin\n"
     ]
    },
    {
     "data": {
      "text/html": [
       "creating run (0.5s)"
      ],
      "text/plain": [
       "<IPython.core.display.HTML object>"
      ]
     },
     "metadata": {},
     "output_type": "display_data"
    },
    {
     "data": {
      "text/html": [
       "Tracking run with wandb version 0.19.7"
      ],
      "text/plain": [
       "<IPython.core.display.HTML object>"
      ]
     },
     "metadata": {},
     "output_type": "display_data"
    },
    {
     "data": {
      "text/html": [
       "Run data is saved locally in <code>C:\\Users\\pankaj\\Desktop\\dl\\DL_assignment_2\\DA6401-Assignment2\\partA\\wandb\\run-20250419_170430-b4c8omyp</code>"
      ],
      "text/plain": [
       "<IPython.core.display.HTML object>"
      ]
     },
     "metadata": {},
     "output_type": "display_data"
    },
    {
     "data": {
      "text/html": [
       "Syncing run <strong><a href='https://wandb.ai/cs24m029-indian-institute-of-technology-madras/DA6401-Assignment2-CNN/runs/b4c8omyp' target=\"_blank\">gelu-16-16-512</a></strong> to <a href='https://wandb.ai/cs24m029-indian-institute-of-technology-madras/DA6401-Assignment2-CNN' target=\"_blank\">Weights & Biases</a> (<a href='https://wandb.me/developer-guide' target=\"_blank\">docs</a>)<br>"
      ],
      "text/plain": [
       "<IPython.core.display.HTML object>"
      ]
     },
     "metadata": {},
     "output_type": "display_data"
    },
    {
     "data": {
      "text/html": [
       " View project at <a href='https://wandb.ai/cs24m029-indian-institute-of-technology-madras/DA6401-Assignment2-CNN' target=\"_blank\">https://wandb.ai/cs24m029-indian-institute-of-technology-madras/DA6401-Assignment2-CNN</a>"
      ],
      "text/plain": [
       "<IPython.core.display.HTML object>"
      ]
     },
     "metadata": {},
     "output_type": "display_data"
    },
    {
     "data": {
      "text/html": [
       " View run at <a href='https://wandb.ai/cs24m029-indian-institute-of-technology-madras/DA6401-Assignment2-CNN/runs/b4c8omyp' target=\"_blank\">https://wandb.ai/cs24m029-indian-institute-of-technology-madras/DA6401-Assignment2-CNN/runs/b4c8omyp</a>"
      ],
      "text/plain": [
       "<IPython.core.display.HTML object>"
      ]
     },
     "metadata": {},
     "output_type": "display_data"
    }
   ],
   "source": [
    "import torch\n",
    "import torch.nn as nn\n",
    "from torch.utils.data import DataLoader, Subset\n",
    "from torchvision import datasets, transforms\n",
    "from sklearn.model_selection import StratifiedShuffleSplit\n",
    "import numpy as np\n",
    "import matplotlib.pyplot as plt\n",
    "import wandb\n",
    "from Q1_Flexible_CNN_Model import FlexibleCNN\n",
    "\n",
    "class InaturalistTrainer:\n",
    "    def __init__(self, config):\n",
    "        self.config = config\n",
    "        self.device = torch.device(\"cuda\" if torch.cuda.is_available() else \"cpu\")\n",
    "        self.model = None\n",
    "        self.optimizer = None\n",
    "        self.criterion = None\n",
    "        self.train_loader = None\n",
    "        self.val_loader = None\n",
    "        self.test_loader = None\n",
    "        self.class_names = None\n",
    "        self.all_images = []\n",
    "        self.all_labels = []\n",
    "        self.all_preds = []\n",
    "        \n",
    "    def setup_data(self):\n",
    "        \"\"\"Prepare data loaders for training, validation and testing\"\"\"\n",
    "        # Define transforms\n",
    "        train_transform = transforms.Compose([\n",
    "            transforms.RandomResizedCrop(224),\n",
    "            transforms.RandomHorizontalFlip(),\n",
    "            transforms.ToTensor(),\n",
    "            transforms.Normalize(mean=[0.485, 0.456, 0.406], std=[0.229, 0.224, 0.225])\n",
    "        ])\n",
    "        val_test_transform = transforms.Compose([\n",
    "            transforms.Resize(256),\n",
    "            transforms.CenterCrop(224),\n",
    "            transforms.ToTensor(),\n",
    "            transforms.Normalize(mean=[0.485, 0.456, 0.406], std=[0.229, 0.224, 0.225])\n",
    "        ])\n",
    "        \n",
    "        # Setup train/val split\n",
    "        train_dir = \"C:/Users/pankaj/Desktop/dl/DL_assignment_2/DA6401-Assignment2/data/inaturalist_12K/train\"\n",
    "        full_train_dataset = datasets.ImageFolder(train_dir, transform=None)\n",
    "        targets = [label for _, label in full_train_dataset.samples]\n",
    "        \n",
    "        splitter = StratifiedShuffleSplit(n_splits=1, test_size=0.2, random_state=42)\n",
    "        train_idx, val_idx = next(splitter.split(np.zeros(len(targets)), targets))\n",
    "        \n",
    "        train_dataset = Subset(datasets.ImageFolder(train_dir, transform=train_transform), train_idx)\n",
    "        val_dataset = Subset(datasets.ImageFolder(train_dir, transform=val_test_transform), val_idx)\n",
    "        \n",
    "        self.train_loader = DataLoader(\n",
    "            train_dataset, \n",
    "            batch_size=self.config[\"batch_size\"], \n",
    "            shuffle=True, \n",
    "            num_workers=0\n",
    "        )\n",
    "        self.val_loader = DataLoader(\n",
    "            val_dataset, \n",
    "            batch_size=self.config[\"batch_size\"], \n",
    "            shuffle=False, \n",
    "            num_workers=0\n",
    "        )\n",
    "        \n",
    "        # Setup test data\n",
    "        test_dir = \"C:/Users/pankaj/Desktop/dl/DL_assignment_2/DA6401-Assignment2/data/inaturalist_12K/val\"\n",
    "        test_dataset = datasets.ImageFolder(test_dir, transform=val_test_transform)\n",
    "        self.test_loader = DataLoader(\n",
    "            test_dataset, \n",
    "            batch_size=self.config[\"batch_size\"], \n",
    "            shuffle=False, \n",
    "            num_workers=0\n",
    "        )\n",
    "        \n",
    "        self.class_names = test_dataset.classes\n",
    "        \n",
    "    def setup_model(self):\n",
    "        \"\"\"Initialize model, optimizer and loss function\"\"\"\n",
    "        self.model = FlexibleCNN(\n",
    "            conv_filters=self.config[\"conv_filters\"],\n",
    "            kernel_sizes=self.config[\"kernel_sizes\"],\n",
    "            activation=self.config[\"activation\"],\n",
    "            dense_neurons=self.config[\"dense_neurons\"],\n",
    "            dropout=self.config[\"dropout\"],\n",
    "            use_batchnorm=self.config[\"use_batchnorm\"]\n",
    "        ).to(self.device)\n",
    "        \n",
    "        self.optimizer = torch.optim.Adam(self.model.parameters(), lr=self.config[\"learning_rate\"])\n",
    "        self.criterion = nn.CrossEntropyLoss()\n",
    "        \n",
    "    def train_epoch(self, epoch):\n",
    "        \"\"\"Train for one epoch\"\"\"\n",
    "        self.model.train()\n",
    "        train_loss, train_correct, train_total = 0, 0, 0\n",
    "        \n",
    "        for images, labels in self.train_loader:\n",
    "            images, labels = images.to(self.device), labels.to(self.device)\n",
    "            \n",
    "            # Forward pass and optimization\n",
    "            self.optimizer.zero_grad()\n",
    "            outputs = self.model(images)\n",
    "            loss = self.criterion(outputs, labels)\n",
    "            loss.backward()\n",
    "            self.optimizer.step()\n",
    "            \n",
    "            # Track statistics\n",
    "            train_loss += loss.item() * images.size(0)\n",
    "            _, predicted = torch.max(outputs, 1)\n",
    "            train_total += labels.size(0)\n",
    "            train_correct += (predicted == labels).sum().item()\n",
    "            \n",
    "        return train_loss / train_total, train_correct / train_total\n",
    "        \n",
    "    def validate(self):\n",
    "        \"\"\"Run validation\"\"\"\n",
    "        self.model.eval()\n",
    "        val_loss, val_correct, val_total = 0, 0, 0\n",
    "        \n",
    "        with torch.no_grad():\n",
    "            for images, labels in self.val_loader:\n",
    "                images, labels = images.to(self.device), labels.to(self.device)\n",
    "                \n",
    "                # Forward pass\n",
    "                outputs = self.model(images)\n",
    "                loss = self.criterion(outputs, labels)\n",
    "                \n",
    "                # Track statistics\n",
    "                val_loss += loss.item() * images.size(0)\n",
    "                _, predicted = torch.max(outputs, 1)\n",
    "                val_total += labels.size(0)\n",
    "                val_correct += (predicted == labels).sum().item()\n",
    "                \n",
    "        return val_loss / val_total, val_correct / val_total\n",
    "    \n",
    "    def test(self):\n",
    "        \"\"\"Evaluate on test set and collect predictions\"\"\"\n",
    "        self.model.eval()\n",
    "        correct, total = 0, 0\n",
    "        self.all_images, self.all_labels, self.all_preds = [], [], []\n",
    "        \n",
    "        with torch.no_grad():\n",
    "            for images, labels in self.test_loader:\n",
    "                images, labels = images.to(self.device), labels.to(self.device)\n",
    "                \n",
    "                # Forward pass\n",
    "                outputs = self.model(images)\n",
    "                _, predicted = torch.max(outputs, 1)\n",
    "                \n",
    "                # Track statistics\n",
    "                total += labels.size(0)\n",
    "                correct += (predicted == labels).sum().item()\n",
    "                \n",
    "                # Save for visualization\n",
    "                self.all_images.extend(images.cpu())\n",
    "                self.all_labels.extend(labels.cpu().numpy())\n",
    "                self.all_preds.extend(predicted.cpu().numpy())\n",
    "                \n",
    "        test_acc = correct / total\n",
    "        return test_acc\n",
    "    \n",
    "    def visualize_predictions(self, num_samples=30):\n",
    "        \"\"\"Visualize model predictions\"\"\"\n",
    "        plt.figure(figsize=(15, 20))\n",
    "        mean = np.array([0.485, 0.456, 0.406])\n",
    "        std = np.array([0.229, 0.224, 0.225])\n",
    "        \n",
    "        for idx in range(num_samples):\n",
    "            plt.subplot(10, 3, idx+1)\n",
    "            img = self.all_images[idx].permute(1, 2, 0).numpy()\n",
    "            img = std * img + mean  # Denormalize\n",
    "            img = np.clip(img, 0, 1)\n",
    "            plt.imshow(img)\n",
    "            \n",
    "            color = 'green' if self.all_labels[idx] == self.all_preds[idx] else 'red'\n",
    "            plt.title(f\"True: {self.class_names[self.all_labels[idx]]}\\n\"\n",
    "                      f\"Pred: {self.class_names[self.all_preds[idx]]}\", color=color)\n",
    "            plt.axis('off')\n",
    "            \n",
    "        plt.tight_layout()\n",
    "        plt.savefig('test_predictions.png')\n",
    "        plt.show()\n",
    "        \n",
    "        # Log to W&B\n",
    "        wandb.log({\"test_predictions_grid\": wandb.Image(\"test_predictions.png\")})\n",
    "    \n",
    "    def train_and_evaluate(self):\n",
    "        \"\"\"Main training loop\"\"\"\n",
    "        # Setup\n",
    "        self.setup_data()\n",
    "        self.setup_model()\n",
    "        \n",
    "        # Training loop\n",
    "        for epoch in range(self.config[\"epochs\"]):\n",
    "            # Train and validate\n",
    "            train_loss, train_acc = self.train_epoch(epoch)\n",
    "            val_loss, val_acc = self.validate()\n",
    "            \n",
    "            # Log metrics\n",
    "            wandb.log({\n",
    "                \"epoch\": epoch+1,\n",
    "                \"train_acc\": train_acc,\n",
    "                \"val_acc\": val_acc,\n",
    "                \"train_loss\": train_loss,\n",
    "                \"val_loss\": val_loss\n",
    "            })\n",
    "            \n",
    "            print(f\"Epoch {epoch+1}/{self.config['epochs']} - \"\n",
    "                  f\"Train Loss: {train_loss:.4f}, Train Acc: {train_acc:.4f}, \"\n",
    "                  f\"Val Loss: {val_loss:.4f}, Val Acc: {val_acc:.4f}\")\n",
    "        \n",
    "        # Test evaluation\n",
    "        test_acc = self.test()\n",
    "        wandb.log({\"test_acc\": test_acc})\n",
    "        print(f\"Test Accuracy: {test_acc:.4f}\")\n",
    "        \n",
    "        # Visualize results\n",
    "        self.visualize_predictions()\n",
    "\n",
    "\n",
    "def main():\n",
    "    # Configuration\n",
    "    config = {\n",
    "        \"conv_filters\": [16, 32, 64, 64, 128],\n",
    "        \"kernel_sizes\": [3, 3, 3, 5, 5],\n",
    "        \"activation\": \"gelu\",\n",
    "        \"dense_neurons\": 512,\n",
    "        \"dropout\": 0.2,\n",
    "        \"use_batchnorm\": True,\n",
    "        \"learning_rate\": 0.0003447,\n",
    "        \"batch_size\": 16,\n",
    "        \"epochs\": 15\n",
    "    }\n",
    "    \n",
    "    # Initialize W&B\n",
    "    wandb.init(project=\"DA6401-Assignment2-CNN\", config=config, name=\"gelu-16-16-512\")\n",
    "    \n",
    "    # Train and evaluate\n",
    "    trainer = InaturalistTrainer(config)\n",
    "    trainer.train_and_evaluate()\n",
    "\n",
    "\n",
    "if __name__ == \"__main__\":\n",
    "    main()"
   ]
  },
  {
   "cell_type": "code",
   "execution_count": null,
   "id": "cbeb79c3",
   "metadata": {},
   "outputs": [],
   "source": [
    "\n"
   ]
  }
 ],
 "metadata": {
  "kernelspec": {
   "display_name": "Python 3 (ipykernel)",
   "language": "python",
   "name": "python3"
  },
  "language_info": {
   "codemirror_mode": {
    "name": "ipython",
    "version": 3
   },
   "file_extension": ".py",
   "mimetype": "text/x-python",
   "name": "python",
   "nbconvert_exporter": "python",
   "pygments_lexer": "ipython3",
   "version": "3.9.7"
  }
 },
 "nbformat": 4,
 "nbformat_minor": 5
}
